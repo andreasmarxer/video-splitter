{
 "cells": [
  {
   "cell_type": "code",
   "execution_count": 1,
   "metadata": {},
   "outputs": [],
   "source": [
    "import numpy as np\n",
    "import pandas as pd\n",
    "import csv\n",
    "import datetime\n",
    "\n",
    "import re\n",
    "import os\n",
    "import glob"
   ]
  },
  {
   "cell_type": "code",
   "execution_count": 2,
   "metadata": {},
   "outputs": [],
   "source": [
    "# Change here for every participant\n",
    "DATA_FOLDER = 'T:/lab-study/20191206_HW-105-V3'"
   ]
  },
  {
   "cell_type": "code",
   "execution_count": 3,
   "metadata": {},
   "outputs": [],
   "source": [
    "# VIDEO FILES: list of all 4 video files (one for each phase)\n",
    "video_paths = glob.glob(DATA_FOLDER + '/output/video/*.flv_camera_front.mp4')\n",
    "\n",
    "# TIMESTAMPS PHASES\n",
    "timestamp_path = glob.glob(DATA_FOLDER + '/timestamps.csv')\n",
    "timestamp_path = timestamp_path[0] # take first element from list and convert to string"
   ]
  },
  {
   "cell_type": "code",
   "execution_count": 8,
   "metadata": {},
   "outputs": [],
   "source": [
    "# get start times of videos from video file folder as df\n",
    "def read_videostamps_df(file_paths, debug):\n",
    "    video_files = []\n",
    "\n",
    "    # convert paths to consistend slashing\n",
    "    for x in range(0,4):\n",
    "        video_files[x] = os.path.normpath(file_paths[x])\n",
    "        if debug == True:\n",
    "            print(x)\n",
    "            print(video_files[x])\n",
    "    \n",
    "        # cut timestamp from video pathname\n",
    "        temp = video_files[x].split(\"video\\\\\", 1)\n",
    "        temp = temp[1].split(\".flv\", 1)\n",
    "        video_time.append(temp[0])\n",
    "        if debug == True:\n",
    "            print(video_time)\n",
    "    \n",
    "    # generate dataframe\n",
    "    videostamps_df = pd.DataFrame(video_time)\n",
    "\n",
    "    # name dataframe index and columns\n",
    "    videostamps_df.index = ['P1', 'P2', 'P3', 'P4']\n",
    "    videostamps_df.index.name = 'phase'\n",
    "    videostamps_df.columns = ['video_time']\n",
    "    \n",
    "    return videostamps_df"
   ]
  },
  {
   "cell_type": "code",
   "execution_count": 9,
   "metadata": {},
   "outputs": [],
   "source": [
    "# read start and endtime timestamps as df\n",
    "def read_organize_timestamps_df(file_path, skiprows):\n",
    "\n",
    "    timestamps_df = pd.read_csv(file_path, sep=';', index_col=None, header=None, skiprows=skiprows, parse_dates=[0])\n",
    "    \n",
    "    # name index as phase(x: 1 to 4) and scenario (y: 1 to 3) with shortcut PxSy\n",
    "    timestamps_df.index = ['P1S1', 'P1S2', 'P1S3', 'P2S1', 'P2S2', 'P2S3', 'P3S1', 'P3S2', 'P3S3','P4S1', 'P4S2', 'P4S3']\n",
    "    timestamps_df.index.name = 'phase_scenario'\n",
    "    # name columns\n",
    "    timestamps_df.columns = ['start_time','end_time']\n",
    "    \n",
    "    return timestamps_df"
   ]
  },
  {
   "cell_type": "code",
   "execution_count": 10,
   "metadata": {},
   "outputs": [
    {
     "ename": "IndexError",
     "evalue": "list assignment index out of range",
     "output_type": "error",
     "traceback": [
      "\u001b[1;31m---------------------------------------------------------------------------\u001b[0m",
      "\u001b[1;31mIndexError\u001b[0m                                Traceback (most recent call last)",
      "\u001b[1;32m<ipython-input-10-1719aa17ea4e>\u001b[0m in \u001b[0;36m<module>\u001b[1;34m()\u001b[0m\n\u001b[0;32m      1\u001b[0m \u001b[1;31m# get start times of videos from video file folder as df\u001b[0m\u001b[1;33m\u001b[0m\u001b[1;33m\u001b[0m\u001b[0m\n\u001b[1;32m----> 2\u001b[1;33m \u001b[0mvideostamp_df\u001b[0m \u001b[1;33m=\u001b[0m \u001b[0mread_videostamps_df\u001b[0m\u001b[1;33m(\u001b[0m\u001b[0mvideo_paths\u001b[0m\u001b[1;33m,\u001b[0m \u001b[0mdebug\u001b[0m \u001b[1;33m=\u001b[0m \u001b[1;32mFalse\u001b[0m\u001b[1;33m)\u001b[0m\u001b[1;33m\u001b[0m\u001b[0m\n\u001b[0m\u001b[0;32m      3\u001b[0m \u001b[0mprint\u001b[0m\u001b[1;33m(\u001b[0m\u001b[0mvideostamps_df\u001b[0m\u001b[1;33m)\u001b[0m\u001b[1;33m\u001b[0m\u001b[0m\n\u001b[0;32m      4\u001b[0m \u001b[1;33m\u001b[0m\u001b[0m\n\u001b[0;32m      5\u001b[0m \u001b[1;31m# read and organize timestamps as df (delete test drives)\u001b[0m\u001b[1;33m\u001b[0m\u001b[1;33m\u001b[0m\u001b[0m\n",
      "\u001b[1;32m<ipython-input-8-833ba2b8e7fe>\u001b[0m in \u001b[0;36mread_videostamps_df\u001b[1;34m(file_paths, debug)\u001b[0m\n\u001b[0;32m      5\u001b[0m     \u001b[1;31m# convert paths to consistend slashing\u001b[0m\u001b[1;33m\u001b[0m\u001b[1;33m\u001b[0m\u001b[0m\n\u001b[0;32m      6\u001b[0m     \u001b[1;32mfor\u001b[0m \u001b[0mx\u001b[0m \u001b[1;32min\u001b[0m \u001b[0mrange\u001b[0m\u001b[1;33m(\u001b[0m\u001b[1;36m0\u001b[0m\u001b[1;33m,\u001b[0m\u001b[1;36m4\u001b[0m\u001b[1;33m)\u001b[0m\u001b[1;33m:\u001b[0m\u001b[1;33m\u001b[0m\u001b[0m\n\u001b[1;32m----> 7\u001b[1;33m         \u001b[0mvideo_files\u001b[0m\u001b[1;33m[\u001b[0m\u001b[0mx\u001b[0m\u001b[1;33m]\u001b[0m \u001b[1;33m=\u001b[0m \u001b[0mos\u001b[0m\u001b[1;33m.\u001b[0m\u001b[0mpath\u001b[0m\u001b[1;33m.\u001b[0m\u001b[0mnormpath\u001b[0m\u001b[1;33m(\u001b[0m\u001b[0mfile_paths\u001b[0m\u001b[1;33m[\u001b[0m\u001b[0mx\u001b[0m\u001b[1;33m]\u001b[0m\u001b[1;33m)\u001b[0m\u001b[1;33m\u001b[0m\u001b[0m\n\u001b[0m\u001b[0;32m      8\u001b[0m         \u001b[1;32mif\u001b[0m \u001b[0mdebug\u001b[0m \u001b[1;33m==\u001b[0m \u001b[1;32mTrue\u001b[0m\u001b[1;33m:\u001b[0m\u001b[1;33m\u001b[0m\u001b[0m\n\u001b[0;32m      9\u001b[0m             \u001b[0mprint\u001b[0m\u001b[1;33m(\u001b[0m\u001b[0mx\u001b[0m\u001b[1;33m)\u001b[0m\u001b[1;33m\u001b[0m\u001b[0m\n",
      "\u001b[1;31mIndexError\u001b[0m: list assignment index out of range"
     ]
    }
   ],
   "source": [
    "# get start times of videos from video file folder as df\n",
    "videostamp_df = read_videostamps_df(video_paths, debug = False)\n",
    "print(videostamps_df)\n",
    "\n",
    "# read and organize timestamps as df (delete test drives)\n",
    "timestamps_df = read_organize_timestamps_df(timestamp_info_file, skiprows=3)\n",
    "print(timestamps_df)"
   ]
  },
  {
   "cell_type": "code",
   "execution_count": 202,
   "metadata": {},
   "outputs": [
    {
     "name": "stdout",
     "output_type": "stream",
     "text": [
      "               video_time\n",
      "phase                    \n",
      "P1    2019-12-06 09:06:24\n",
      "P2    2019-12-06 09:50:30\n",
      "P3    2019-12-06 10:38:59\n",
      "P4    2019-12-06 11:56:56\n",
      "                            start_time                end_time\n",
      "phase_scenario                                                \n",
      "P1S1           2019-12-06 09:08:19.172 2019-12-06 09:13:53.370\n",
      "P1S2           2019-12-06 09:15:10.608 2019-12-06 09:20:26.580\n",
      "P1S3           2019-12-06 09:21:42.144 2019-12-06 09:26:53.050\n",
      "P2S1           2019-12-06 09:59:53.322 2019-12-06 10:05:11.980\n",
      "P2S2           2019-12-06 10:06:04.595 2019-12-06 10:11:50.100\n",
      "P2S3           2019-12-06 10:12:25.413 2019-12-06 10:17:35.510\n",
      "P3S1           2019-12-06 10:39:18.004 2019-12-06 10:44:36.740\n",
      "P3S2           2019-12-06 10:48:47.945 2019-12-06 10:54:00.450\n",
      "P3S3           2019-12-06 10:55:07.041 2019-12-06 11:01:18.430\n",
      "P4S1           2019-12-06 12:01:04.478 2019-12-06 12:06:16.310\n",
      "P4S2           2019-12-06 12:08:23.010 2019-12-06 12:13:36.910\n",
      "P4S3           2019-12-06 12:15:12.222 2019-12-06 12:20:45.370\n",
      "<class 'pandas.core.frame.DataFrame'>\n"
     ]
    }
   ],
   "source": [
    "# convert excel format to datetime\n",
    "videostamp_df['video_time'] = pd.to_datetime(videostamp_df['video_time'], format='%Y-%m-%d--%H-%M-%S')\n",
    "print(videostamp_df)\n",
    "\n",
    "timestamps_df['start_time'] = pd.to_datetime(timestamps_df['start_time'], format='%Y-%m-%d--%H-%M-%S-%f')\n",
    "timestamps_df['end_time'] = pd.to_datetime(timestamps_df['end_time'], format='%Y-%m-%d--%H-%M-%S-%f')\n",
    "print(timestamps_df)\n",
    "print(type(timestamps_df))"
   ]
  },
  {
   "cell_type": "code",
   "execution_count": 203,
   "metadata": {},
   "outputs": [],
   "source": [
    "def round_milliseconds(dt, direction):\n",
    "    new_second = (dt.second + (1 if direction == 'up' else 0))\n",
    "    new_dt = datetime.datetime(dt.year, dt.month, dt.day, dt.hour, dt.minute, new_second)\n",
    "    return new_dt"
   ]
  },
  {
   "cell_type": "code",
   "execution_count": 204,
   "metadata": {},
   "outputs": [
    {
     "name": "stdout",
     "output_type": "stream",
     "text": [
      "2019-12-06 09:08:20\n",
      "<class 'datetime.datetime'>\n",
      "2019-12-06 09:08:19\n",
      "<class 'datetime.datetime'>\n"
     ]
    }
   ],
   "source": [
    "# Debugging\n",
    "test = round_milliseconds(pd.to_datetime(timestamps_df.at['P1S1','start_time']), direction = 'up')\n",
    "print(test)\n",
    "print(type(test))\n",
    "\n",
    "test = round_milliseconds(pd.to_datetime(timestamps_df.at['P1S1','start_time']), direction = 'down')\n",
    "print(test)\n",
    "print(type(test))"
   ]
  },
  {
   "cell_type": "code",
   "execution_count": 205,
   "metadata": {},
   "outputs": [
    {
     "name": "stdout",
     "output_type": "stream",
     "text": [
      "                            start_time                end_time\n",
      "phase_scenario                                                \n",
      "P1S1           2019-12-06 09:08:19.172 2019-12-06 09:13:53.370\n",
      "P1S2           2019-12-06 09:15:10.608 2019-12-06 09:20:26.580\n",
      "P1S3           2019-12-06 09:21:42.144 2019-12-06 09:26:53.050\n",
      "P2S1           2019-12-06 09:59:53.322 2019-12-06 10:05:11.980\n",
      "P2S2           2019-12-06 10:06:04.595 2019-12-06 10:11:50.100\n",
      "P2S3           2019-12-06 10:12:25.413 2019-12-06 10:17:35.510\n",
      "P3S1           2019-12-06 10:39:18.004 2019-12-06 10:44:36.740\n",
      "P3S2           2019-12-06 10:48:47.945 2019-12-06 10:54:00.450\n",
      "P3S3           2019-12-06 10:55:07.041 2019-12-06 11:01:18.430\n",
      "P4S1           2019-12-06 12:01:04.478 2019-12-06 12:06:16.310\n",
      "P4S2           2019-12-06 12:08:23.010 2019-12-06 12:13:36.910\n",
      "P4S3           2019-12-06 12:15:12.222 2019-12-06 12:20:45.370\n",
      "                            start_time                end_time\n",
      "phase_scenario                                                \n",
      "P1S1           2019-12-06 09:08:19.172 2019-12-06 09:13:53.370\n",
      "P1S2           2019-12-06 09:15:10.608 2019-12-06 09:20:26.580\n",
      "P1S3           2019-12-06 09:21:42.144 2019-12-06 09:26:53.050\n",
      "P2S1           2019-12-06 09:59:53.322 2019-12-06 10:05:11.980\n",
      "P2S2           2019-12-06 10:06:04.595 2019-12-06 10:11:50.100\n",
      "P2S3           2019-12-06 10:12:25.413 2019-12-06 10:17:35.510\n",
      "P3S1           2019-12-06 10:39:18.004 2019-12-06 10:44:36.740\n",
      "P3S2           2019-12-06 10:48:47.945 2019-12-06 10:54:00.450\n",
      "P3S3           2019-12-06 10:55:07.041 2019-12-06 11:01:18.430\n",
      "P4S1           2019-12-06 12:01:04.478 2019-12-06 12:06:16.310\n",
      "P4S2           2019-12-06 12:08:23.010 2019-12-06 12:13:36.910\n",
      "P4S3           2019-12-06 12:15:12.222 2019-12-06 12:20:45.370\n",
      "P1S1\n",
      "start_time\n",
      "end_time\n",
      "P1S2\n",
      "start_time\n",
      "end_time\n",
      "P1S3\n",
      "start_time\n",
      "end_time\n",
      "P2S1\n",
      "start_time\n",
      "end_time\n",
      "P2S2\n",
      "start_time\n",
      "end_time\n",
      "P2S3\n",
      "start_time\n",
      "end_time\n",
      "P3S1\n",
      "start_time\n",
      "end_time\n",
      "P3S2\n",
      "start_time\n",
      "end_time\n",
      "P3S3\n",
      "start_time\n",
      "end_time\n",
      "P4S1\n",
      "start_time\n",
      "end_time\n",
      "P4S2\n",
      "start_time\n",
      "end_time\n",
      "P4S3\n",
      "start_time\n",
      "end_time\n"
     ]
    }
   ],
   "source": [
    "timestamps_df_round = timestamps_df\n",
    "print(timestamps_df)\n",
    "print(timestamps_df_round)\n",
    "\n",
    "for row in timestamps_df_round.index:\n",
    "    print(row)\n",
    "    \n",
    "    for column in timestamps_df_round.columns:\n",
    "        print(column)\n",
    "        if column == 'start_time':\n",
    "            timestamps_df_round.at[row, column] = round_milliseconds(pd.to_datetime(timestamps_df_round.at[row, column]), direction = 'up')\n",
    "        if column == 'end_time':\n",
    "            timestamps_df_round.at[row, column] = round_milliseconds(pd.to_datetime(timestamps_df_round.at[row, column]), direction = 'down')"
   ]
  },
  {
   "cell_type": "code",
   "execution_count": 206,
   "metadata": {},
   "outputs": [
    {
     "name": "stdout",
     "output_type": "stream",
     "text": [
      "                        start_time            end_time\n",
      "phase_scenario                                        \n",
      "P1S1           2019-12-06 09:08:20 2019-12-06 09:13:53\n",
      "P1S2           2019-12-06 09:15:11 2019-12-06 09:20:26\n",
      "P1S3           2019-12-06 09:21:43 2019-12-06 09:26:53\n",
      "P2S1           2019-12-06 09:59:54 2019-12-06 10:05:11\n",
      "P2S2           2019-12-06 10:06:05 2019-12-06 10:11:50\n",
      "P2S3           2019-12-06 10:12:26 2019-12-06 10:17:35\n",
      "P3S1           2019-12-06 10:39:19 2019-12-06 10:44:36\n",
      "P3S2           2019-12-06 10:48:48 2019-12-06 10:54:00\n",
      "P3S3           2019-12-06 10:55:08 2019-12-06 11:01:18\n",
      "P4S1           2019-12-06 12:01:05 2019-12-06 12:06:16\n",
      "P4S2           2019-12-06 12:08:24 2019-12-06 12:13:36\n",
      "P4S3           2019-12-06 12:15:13 2019-12-06 12:20:45\n",
      "                        start_time            end_time\n",
      "phase_scenario                                        \n",
      "P1S1           2019-12-06 09:08:20 2019-12-06 09:13:53\n",
      "P1S2           2019-12-06 09:15:11 2019-12-06 09:20:26\n",
      "P1S3           2019-12-06 09:21:43 2019-12-06 09:26:53\n",
      "P2S1           2019-12-06 09:59:54 2019-12-06 10:05:11\n",
      "P2S2           2019-12-06 10:06:05 2019-12-06 10:11:50\n",
      "P2S3           2019-12-06 10:12:26 2019-12-06 10:17:35\n",
      "P3S1           2019-12-06 10:39:19 2019-12-06 10:44:36\n",
      "P3S2           2019-12-06 10:48:48 2019-12-06 10:54:00\n",
      "P3S3           2019-12-06 10:55:08 2019-12-06 11:01:18\n",
      "P4S1           2019-12-06 12:01:05 2019-12-06 12:06:16\n",
      "P4S2           2019-12-06 12:08:24 2019-12-06 12:13:36\n",
      "P4S3           2019-12-06 12:15:13 2019-12-06 12:20:45\n"
     ]
    }
   ],
   "source": [
    "print(timestamps_df)\n",
    "print(timestamps_df_round)"
   ]
  },
  {
   "cell_type": "code",
   "execution_count": null,
   "metadata": {},
   "outputs": [],
   "source": [
    "# Iterate over two given columns only from the dataframe\n",
    "for column in timestamps_df[['start_time']]:\n",
    "    # Select column contents by column name using [] operator\n",
    "    columnSeriesObj = timestamps_df[column]\n",
    "    print(columnSeriesObj)\n",
    "    \n",
    "    round_milliseconds(pd.to_datetime(columnSeriesObj), direction = 'up')\n",
    "    \n",
    "    #print('Colunm Name : ', column)\n",
    "    #print('Column Contents : ', columnSeriesObj.values)\n",
    "    #test = columnSeriesObj.values"
   ]
  },
  {
   "cell_type": "code",
   "execution_count": null,
   "metadata": {},
   "outputs": [],
   "source": []
  },
  {
   "cell_type": "code",
   "execution_count": null,
   "metadata": {},
   "outputs": [],
   "source": []
  },
  {
   "cell_type": "code",
   "execution_count": null,
   "metadata": {},
   "outputs": [],
   "source": [
    "# copy hole column to new column\n",
    "timestamps_df['start_second'] = pd.to_datetime(timestamps_df['start_time']) - np.datetime64('1970-01-01T00:00:00Z') / np.timedelta64(1, 'ms')\n",
    "print(timestamps_df)\n",
    "\n",
    "# starttime round up\n",
    "# endtime round down"
   ]
  },
  {
   "cell_type": "code",
   "execution_count": null,
   "metadata": {},
   "outputs": [],
   "source": [
    "df['D'] = df['B']\n",
    "# convert datetime to relative time format [ms till 1970]\n",
    "\n",
    "initial_timestamp_ms = (timestamps.df - np.datetime64('1970-01-01T00:00:00Z')) / np.timedelta64(1, 'ms')\n",
    "\n",
    "start_second = \n",
    "length_second"
   ]
  },
  {
   "cell_type": "code",
   "execution_count": null,
   "metadata": {},
   "outputs": [],
   "source": []
  },
  {
   "cell_type": "code",
   "execution_count": null,
   "metadata": {},
   "outputs": [],
   "source": []
  }
 ],
 "metadata": {
  "kernelspec": {
   "display_name": "Python 3",
   "language": "python",
   "name": "python3"
  },
  "language_info": {
   "codemirror_mode": {
    "name": "ipython",
    "version": 3
   },
   "file_extension": ".py",
   "mimetype": "text/x-python",
   "name": "python",
   "nbconvert_exporter": "python",
   "pygments_lexer": "ipython3",
   "version": "3.7.0"
  }
 },
 "nbformat": 4,
 "nbformat_minor": 2
}
