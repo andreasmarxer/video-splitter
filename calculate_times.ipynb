{
 "cells": [
  {
   "cell_type": "code",
   "execution_count": 1,
   "metadata": {},
   "outputs": [],
   "source": [
    "import numpy as np\n",
    "import pandas as pd\n",
    "import csv\n",
    "import datetime\n",
    "\n",
    "import re\n",
    "import os\n",
    "import glob"
   ]
  },
  {
   "cell_type": "code",
   "execution_count": 2,
   "metadata": {},
   "outputs": [],
   "source": [
    "# Change here for every participant\n",
    "DATA_FOLDER = 'T:/lab-study/20191206_HW-105-V3'"
   ]
  },
  {
   "cell_type": "code",
   "execution_count": 3,
   "metadata": {},
   "outputs": [],
   "source": [
    "# VIDEO FILES: list of all 4 video files (one for each phase)\n",
    "video_paths = glob.glob(DATA_FOLDER + '/output/video/*.flv_camera_front.mp4')\n",
    "\n",
    "# TIMESTAMPS PHASES\n",
    "timestamp_path = glob.glob(DATA_FOLDER + '/timestamps.csv')\n",
    "timestamp_path = timestamp_path[0] # take first element from list and convert to string"
   ]
  },
  {
   "cell_type": "code",
   "execution_count": 8,
   "metadata": {},
   "outputs": [],
   "source": [
    "# get start times of videos from video file folder as df\n",
    "def read_videostamps_df(file_paths, debug):\n",
    "    video_files = []\n",
    "    video_time = []\n",
    "\n",
    "    # convert paths to consistend slashing\n",
    "    for x in range(0,4):\n",
    "        video_files.append(os.path.normpath(file_paths[x]))\n",
    "        if debug == True:\n",
    "            print(x)\n",
    "            print(video_files[x])\n",
    "    \n",
    "        # cut timestamp from video pathname\n",
    "        temp = video_files[x].split(\"video\\\\\", 1)\n",
    "        temp = temp[1].split(\".flv\", 1)\n",
    "        video_time.append(temp[0])\n",
    "        if debug == True:\n",
    "            print(video_time)\n",
    "    \n",
    "    # generate dataframe\n",
    "    videostamps_df = pd.DataFrame(video_time)\n",
    "\n",
    "    # name dataframe index and columns\n",
    "    videostamps_df.index = ['P1', 'P2', 'P3', 'P4']\n",
    "    videostamps_df.index.name = 'phase'\n",
    "    videostamps_df.columns = ['video_time']\n",
    "    \n",
    "    return videostamps_df"
   ]
  },
  {
   "cell_type": "code",
   "execution_count": 9,
   "metadata": {},
   "outputs": [],
   "source": [
    "# read start and endtime timestamps as df\n",
    "def read_organize_timestamps_df(file_path, skiprows):\n",
    "\n",
    "    timestamps_df = pd.read_csv(file_path, sep=';', index_col=None, header=None, skiprows=skiprows, parse_dates=[0])\n",
    "    \n",
    "    # name index as phase(x: 1 to 4) and scenario (y: 1 to 3) with shortcut PxSy\n",
    "    timestamps_df.index = ['P1S1', 'P1S2', 'P1S3', 'P2S1', 'P2S2', 'P2S3', 'P3S1', 'P3S2', 'P3S3','P4S1', 'P4S2', 'P4S3']\n",
    "    timestamps_df.index.name = 'phase_scenario'\n",
    "    # name columns\n",
    "    timestamps_df.columns = ['start_time','end_time']\n",
    "    \n",
    "    return timestamps_df"
   ]
  },
  {
   "cell_type": "code",
   "execution_count": 10,
   "metadata": {},
   "outputs": [
    {
     "name": "stdout",
     "output_type": "stream",
     "text": [
      "0\n",
      "0\n",
      "1\n",
      "1\n",
      "2\n",
      "2\n",
      "3\n",
      "3\n"
     ]
    }
   ],
   "source": [
    "# Debugging\n",
    "\n",
    "video_files = []\n",
    "\n",
    "for x in range(0,4):\n",
    "            print(x)\n",
    "            video_files.append(x)\n",
    "            print(video_files[x])"
   ]
  },
  {
   "cell_type": "code",
   "execution_count": 11,
   "metadata": {},
   "outputs": [
    {
     "name": "stdout",
     "output_type": "stream",
     "text": [
      "                 video_time\n",
      "phase                      \n",
      "P1     2019-12-06--09-06-24\n",
      "P2     2019-12-06--09-50-30\n",
      "P3     2019-12-06--10-38-59\n",
      "P4     2019-12-06--11-56-56\n",
      "                              start_time                  end_time\n",
      "phase_scenario                                                    \n",
      "P1S1            2019-12-06--09-08-19-172  2019-12-06--09-13-53-370\n",
      "P1S2            2019-12-06--09-15-10-608  2019-12-06--09-20-26-580\n",
      "P1S3            2019-12-06--09-21-42-144  2019-12-06--09-26-53-050\n",
      "P2S1            2019-12-06--09-59-53-322  2019-12-06--10-05-11-980\n",
      "P2S2            2019-12-06--10-06-04-595  2019-12-06--10-11-50-100\n",
      "P2S3            2019-12-06--10-12-25-413  2019-12-06--10-17-35-510\n",
      "P3S1            2019-12-06--10-39-18-004  2019-12-06--10-44-36-740\n",
      "P3S2            2019-12-06--10-48-47-945  2019-12-06--10-54-00-450\n",
      "P3S3            2019-12-06--10-55-07-041  2019-12-06--11-01-18-430\n",
      "P4S1            2019-12-06--12-01-04-478  2019-12-06--12-06-16-310\n",
      "P4S2            2019-12-06--12-08-23-010  2019-12-06--12-13-36-910\n",
      "P4S3            2019-12-06--12-15-12-222  2019-12-06--12-20-45-370\n"
     ]
    }
   ],
   "source": [
    "# get start times of videos from video file folder as df\n",
    "videostamps_df = read_videostamps_df(video_paths, debug = False)\n",
    "print(videostamps_df)\n",
    "\n",
    "# read and organize timestamps as df (delete test drives)\n",
    "timestamps_df = read_organize_timestamps_df(timestamp_path, skiprows=3)\n",
    "print(timestamps_df)"
   ]
  },
  {
   "cell_type": "code",
   "execution_count": 12,
   "metadata": {},
   "outputs": [
    {
     "name": "stdout",
     "output_type": "stream",
     "text": [
      "               video_time\n",
      "phase                    \n",
      "P1    2019-12-06 09:06:24\n",
      "P2    2019-12-06 09:50:30\n",
      "P3    2019-12-06 10:38:59\n",
      "P4    2019-12-06 11:56:56\n",
      "                            start_time                end_time\n",
      "phase_scenario                                                \n",
      "P1S1           2019-12-06 09:08:19.172 2019-12-06 09:13:53.370\n",
      "P1S2           2019-12-06 09:15:10.608 2019-12-06 09:20:26.580\n",
      "P1S3           2019-12-06 09:21:42.144 2019-12-06 09:26:53.050\n",
      "P2S1           2019-12-06 09:59:53.322 2019-12-06 10:05:11.980\n",
      "P2S2           2019-12-06 10:06:04.595 2019-12-06 10:11:50.100\n",
      "P2S3           2019-12-06 10:12:25.413 2019-12-06 10:17:35.510\n",
      "P3S1           2019-12-06 10:39:18.004 2019-12-06 10:44:36.740\n",
      "P3S2           2019-12-06 10:48:47.945 2019-12-06 10:54:00.450\n",
      "P3S3           2019-12-06 10:55:07.041 2019-12-06 11:01:18.430\n",
      "P4S1           2019-12-06 12:01:04.478 2019-12-06 12:06:16.310\n",
      "P4S2           2019-12-06 12:08:23.010 2019-12-06 12:13:36.910\n",
      "P4S3           2019-12-06 12:15:12.222 2019-12-06 12:20:45.370\n",
      "<class 'pandas.core.frame.DataFrame'>\n"
     ]
    }
   ],
   "source": [
    "# convert excel format to datetime\n",
    "videostamps_df['video_time'] = pd.to_datetime(videostamps_df['video_time'], format='%Y-%m-%d--%H-%M-%S')\n",
    "print(videostamps_df)\n",
    "\n",
    "timestamps_df['start_time'] = pd.to_datetime(timestamps_df['start_time'], format='%Y-%m-%d--%H-%M-%S-%f')\n",
    "timestamps_df['end_time'] = pd.to_datetime(timestamps_df['end_time'], format='%Y-%m-%d--%H-%M-%S-%f')\n",
    "print(timestamps_df)\n",
    "print(type(timestamps_df))"
   ]
  },
  {
   "cell_type": "code",
   "execution_count": 13,
   "metadata": {},
   "outputs": [],
   "source": [
    "def round_milliseconds(dt, direction):\n",
    "    new_second = (dt.second + (1 if direction == 'up' else 0))\n",
    "    new_dt = datetime.datetime(dt.year, dt.month, dt.day, dt.hour, dt.minute, new_second)\n",
    "    return new_dt"
   ]
  },
  {
   "cell_type": "code",
   "execution_count": 14,
   "metadata": {},
   "outputs": [
    {
     "name": "stdout",
     "output_type": "stream",
     "text": [
      "2019-12-06 09:08:20\n",
      "<class 'datetime.datetime'>\n",
      "2019-12-06 09:08:19\n",
      "<class 'datetime.datetime'>\n"
     ]
    }
   ],
   "source": [
    "# Debugging\n",
    "test = round_milliseconds(pd.to_datetime(timestamps_df.at['P1S1','start_time']), direction = 'up')\n",
    "print(test)\n",
    "print(type(test))\n",
    "\n",
    "test = round_milliseconds(pd.to_datetime(timestamps_df.at['P1S1','start_time']), direction = 'down')\n",
    "print(test)\n",
    "print(type(test))"
   ]
  },
  {
   "cell_type": "code",
   "execution_count": 15,
   "metadata": {},
   "outputs": [],
   "source": [
    "# round millisecond timestamps to seconds: up for starttime, down for endtime\n",
    "def round_timestamps(timestamps_df, debug):\n",
    "    # make copy, changes not reflected in original\n",
    "    timestamps_df_round = timestamps_df.copy(deep=True)\n",
    "                                             \n",
    "    for row in timestamps_df_round.index:\n",
    "        if debug == True:\n",
    "            print(row)\n",
    "\n",
    "        for column in timestamps_df_round.columns:\n",
    "            if debug == True:\n",
    "                print(column)\n",
    "            if column == 'start_time':\n",
    "                timestamps_df_round.at[row, column] = round_milliseconds(pd.to_datetime(timestamps_df_round.at[row, column]), direction = 'up')\n",
    "            if column == 'end_time':\n",
    "                timestamps_df_round.at[row, column] = round_milliseconds(pd.to_datetime(timestamps_df_round.at[row, column]), direction = 'down')\n",
    "    \n",
    "    return timestamps_df_round"
   ]
  },
  {
   "cell_type": "code",
   "execution_count": 16,
   "metadata": {},
   "outputs": [
    {
     "name": "stdout",
     "output_type": "stream",
     "text": [
      "                            start_time                end_time\n",
      "phase_scenario                                                \n",
      "P1S1           2019-12-06 09:08:19.172 2019-12-06 09:13:53.370\n",
      "P1S2           2019-12-06 09:15:10.608 2019-12-06 09:20:26.580\n",
      "P1S3           2019-12-06 09:21:42.144 2019-12-06 09:26:53.050\n",
      "P2S1           2019-12-06 09:59:53.322 2019-12-06 10:05:11.980\n",
      "P2S2           2019-12-06 10:06:04.595 2019-12-06 10:11:50.100\n",
      "P2S3           2019-12-06 10:12:25.413 2019-12-06 10:17:35.510\n",
      "P3S1           2019-12-06 10:39:18.004 2019-12-06 10:44:36.740\n",
      "P3S2           2019-12-06 10:48:47.945 2019-12-06 10:54:00.450\n",
      "P3S3           2019-12-06 10:55:07.041 2019-12-06 11:01:18.430\n",
      "P4S1           2019-12-06 12:01:04.478 2019-12-06 12:06:16.310\n",
      "P4S2           2019-12-06 12:08:23.010 2019-12-06 12:13:36.910\n",
      "P4S3           2019-12-06 12:15:12.222 2019-12-06 12:20:45.370\n",
      "                        start_time            end_time\n",
      "phase_scenario                                        \n",
      "P1S1           2019-12-06 09:08:20 2019-12-06 09:13:53\n",
      "P1S2           2019-12-06 09:15:11 2019-12-06 09:20:26\n",
      "P1S3           2019-12-06 09:21:43 2019-12-06 09:26:53\n",
      "P2S1           2019-12-06 09:59:54 2019-12-06 10:05:11\n",
      "P2S2           2019-12-06 10:06:05 2019-12-06 10:11:50\n",
      "P2S3           2019-12-06 10:12:26 2019-12-06 10:17:35\n",
      "P3S1           2019-12-06 10:39:19 2019-12-06 10:44:36\n",
      "P3S2           2019-12-06 10:48:48 2019-12-06 10:54:00\n",
      "P3S3           2019-12-06 10:55:08 2019-12-06 11:01:18\n",
      "P4S1           2019-12-06 12:01:05 2019-12-06 12:06:16\n",
      "P4S2           2019-12-06 12:08:24 2019-12-06 12:13:36\n",
      "P4S3           2019-12-06 12:15:13 2019-12-06 12:20:45\n"
     ]
    }
   ],
   "source": [
    "timestamps_df_round = round_timestamps(timestamps_df, debug = False)\n",
    "\n",
    "# Debugging\n",
    "print(timestamps_df)\n",
    "print(timestamps_df_round)"
   ]
  },
  {
   "cell_type": "code",
   "execution_count": 17,
   "metadata": {},
   "outputs": [
    {
     "name": "stdout",
     "output_type": "stream",
     "text": [
      "video_time   2019-12-06 09:06:24\n",
      "Name: P1, dtype: datetime64[ns]\n",
      "video_time   2019-12-06 09:06:24\n",
      "Name: P1, dtype: datetime64[ns]\n",
      "phase_scenario\n",
      "P1S1   2019-12-06 09:08:20\n",
      "P1S2   2019-12-06 09:15:11\n",
      "P1S3   2019-12-06 09:21:43\n",
      "P2S1   2019-12-06 09:59:54\n",
      "P2S2   2019-12-06 10:06:05\n",
      "P2S3   2019-12-06 10:12:26\n",
      "P3S1   2019-12-06 10:39:19\n",
      "P3S2   2019-12-06 10:48:48\n",
      "P3S3   2019-12-06 10:55:08\n",
      "P4S1   2019-12-06 12:01:05\n",
      "P4S2   2019-12-06 12:08:24\n",
      "P4S3   2019-12-06 12:15:13\n",
      "Name: start_time, dtype: datetime64[ns]\n",
      "phase_scenario\n",
      "P1S1   2019-12-06 09:08:20\n",
      "P1S2   2019-12-06 09:15:11\n",
      "P1S3   2019-12-06 09:21:43\n",
      "P2S1   2019-12-06 09:59:54\n",
      "P2S2   2019-12-06 10:06:05\n",
      "P2S3   2019-12-06 10:12:26\n",
      "P3S1   2019-12-06 10:39:19\n",
      "P3S2   2019-12-06 10:48:48\n",
      "P3S3   2019-12-06 10:55:08\n",
      "P4S1   2019-12-06 12:01:05\n",
      "P4S2   2019-12-06 12:08:24\n",
      "P4S3   2019-12-06 12:15:13\n",
      "Name: start_time, dtype: datetime64[ns]\n"
     ]
    }
   ],
   "source": [
    "print(videostamps_df.iloc[0])\n",
    "print(pd.to_datetime(videostamps_df.iloc[0]))\n",
    "\n",
    "print(timestamps_df_round['start_time'])\n",
    "print(pd.to_datetime(timestamps_df_round['start_time']))"
   ]
  },
  {
   "cell_type": "code",
   "execution_count": 18,
   "metadata": {},
   "outputs": [
    {
     "name": "stdout",
     "output_type": "stream",
     "text": [
      "                        start_time            end_time  start_second  \\\n",
      "phase_scenario                                                         \n",
      "P1S1           2019-12-06 09:08:20 2019-12-06 09:13:53             0   \n",
      "P1S2           2019-12-06 09:15:11 2019-12-06 09:20:26             0   \n",
      "P1S3           2019-12-06 09:21:43 2019-12-06 09:26:53             0   \n",
      "P2S1           2019-12-06 09:59:54 2019-12-06 10:05:11             0   \n",
      "P2S2           2019-12-06 10:06:05 2019-12-06 10:11:50             0   \n",
      "P2S3           2019-12-06 10:12:26 2019-12-06 10:17:35             0   \n",
      "P3S1           2019-12-06 10:39:19 2019-12-06 10:44:36             0   \n",
      "P3S2           2019-12-06 10:48:48 2019-12-06 10:54:00             0   \n",
      "P3S3           2019-12-06 10:55:08 2019-12-06 11:01:18             0   \n",
      "P4S1           2019-12-06 12:01:05 2019-12-06 12:06:16             0   \n",
      "P4S2           2019-12-06 12:08:24 2019-12-06 12:13:36             0   \n",
      "P4S3           2019-12-06 12:15:13 2019-12-06 12:20:45             0   \n",
      "\n",
      "                length_second  \n",
      "phase_scenario                 \n",
      "P1S1                        0  \n",
      "P1S2                        0  \n",
      "P1S3                        0  \n",
      "P2S1                        0  \n",
      "P2S2                        0  \n",
      "P2S3                        0  \n",
      "P3S1                        0  \n",
      "P3S2                        0  \n",
      "P3S3                        0  \n",
      "P4S1                        0  \n",
      "P4S2                        0  \n",
      "P4S3                        0  \n"
     ]
    }
   ],
   "source": [
    "# initialize (else error)\n",
    "timestamps_df_round['start_second'] = 0\n",
    "timestamps_df_round['length_second'] = 0\n",
    "print(timestamps_df_round)"
   ]
  },
  {
   "cell_type": "code",
   "execution_count": 19,
   "metadata": {},
   "outputs": [
    {
     "name": "stdout",
     "output_type": "stream",
     "text": [
      "phase_scenario\n",
      "P1S1     116\n",
      "P1S2     527\n",
      "P1S3     919\n",
      "P2S1     564\n",
      "P2S2     935\n",
      "P2S3    1316\n",
      "P3S1      20\n",
      "P3S2     589\n",
      "P3S3     969\n",
      "P4S1     249\n",
      "P4S2     688\n",
      "P4S3    1097\n",
      "Name: start_second, dtype: int64\n"
     ]
    }
   ],
   "source": [
    "# calculate start second of phase in corresponding video\n",
    "timestamps_df_round.at['P1S1','start_second'] = ( timestamps_df_round.at['P1S1','start_time'] - videostamps_df.iloc[0] ) / np.timedelta64(1, 's')\n",
    "timestamps_df_round.at['P1S2','start_second'] = ( timestamps_df_round.at['P1S2','start_time'] - videostamps_df.iloc[0] ) / np.timedelta64(1, 's')\n",
    "timestamps_df_round.at['P1S3','start_second'] = ( timestamps_df_round.at['P1S3','start_time'] - videostamps_df.iloc[0] ) / np.timedelta64(1, 's')\n",
    "\n",
    "timestamps_df_round.at['P2S1','start_second'] = ( timestamps_df_round.at['P2S1','start_time'] - videostamps_df.iloc[1] ) / np.timedelta64(1, 's')\n",
    "timestamps_df_round.at['P2S2','start_second'] = ( timestamps_df_round.at['P2S2','start_time'] - videostamps_df.iloc[1] ) / np.timedelta64(1, 's')\n",
    "timestamps_df_round.at['P2S3','start_second'] = ( timestamps_df_round.at['P2S3','start_time'] - videostamps_df.iloc[1] ) / np.timedelta64(1, 's')\n",
    "\n",
    "timestamps_df_round.at['P3S1','start_second'] = ( timestamps_df_round.at['P3S1','start_time'] - videostamps_df.iloc[2] ) / np.timedelta64(1, 's')\n",
    "timestamps_df_round.at['P3S2','start_second'] = ( timestamps_df_round.at['P3S2','start_time'] - videostamps_df.iloc[2] ) / np.timedelta64(1, 's')\n",
    "timestamps_df_round.at['P3S3','start_second'] = ( timestamps_df_round.at['P3S3','start_time'] - videostamps_df.iloc[2] ) / np.timedelta64(1, 's')\n",
    "\n",
    "timestamps_df_round.at['P4S1','start_second'] = ( timestamps_df_round.at['P4S1','start_time'] - videostamps_df.iloc[3] ) / np.timedelta64(1, 's')\n",
    "timestamps_df_round.at['P4S2','start_second'] = ( timestamps_df_round.at['P4S2','start_time'] - videostamps_df.iloc[3] ) / np.timedelta64(1, 's')\n",
    "timestamps_df_round.at['P4S3','start_second'] = ( timestamps_df_round.at['P4S3','start_time'] - videostamps_df.iloc[3] ) / np.timedelta64(1, 's')\n",
    "\n",
    "print(timestamps_df_round['start_second'])"
   ]
  },
  {
   "cell_type": "code",
   "execution_count": 20,
   "metadata": {},
   "outputs": [
    {
     "name": "stdout",
     "output_type": "stream",
     "text": [
      "phase_scenario\n",
      "P1S1    333\n",
      "P1S2    315\n",
      "P1S3    310\n",
      "P2S1    317\n",
      "P2S2    345\n",
      "P2S3    309\n",
      "P3S1    317\n",
      "P3S2    312\n",
      "P3S3    370\n",
      "P4S1    311\n",
      "P4S2    312\n",
      "P4S3    332\n",
      "Name: length_second, dtype: int64\n"
     ]
    }
   ],
   "source": [
    "# calculate length of phase in corresponding video in unit [s]\n",
    "timestamps_df_round.at['P1S1','length_second'] = ( timestamps_df_round.at['P1S1','end_time'] - timestamps_df_round.at['P1S1','start_time'] ) / np.timedelta64(1, 's')\n",
    "timestamps_df_round.at['P1S2','length_second'] = ( timestamps_df_round.at['P1S2','end_time'] - timestamps_df_round.at['P1S2','start_time'] ) / np.timedelta64(1, 's')\n",
    "timestamps_df_round.at['P1S3','length_second'] = ( timestamps_df_round.at['P1S3','end_time'] - timestamps_df_round.at['P1S3','start_time'] ) / np.timedelta64(1, 's')\n",
    "\n",
    "timestamps_df_round.at['P2S1','length_second'] = ( timestamps_df_round.at['P2S1','end_time'] - timestamps_df_round.at['P2S1','start_time'] ) / np.timedelta64(1, 's')\n",
    "timestamps_df_round.at['P2S2','length_second'] = ( timestamps_df_round.at['P2S2','end_time'] - timestamps_df_round.at['P2S2','start_time'] ) / np.timedelta64(1, 's')\n",
    "timestamps_df_round.at['P2S3','length_second'] = ( timestamps_df_round.at['P2S3','end_time'] - timestamps_df_round.at['P2S3','start_time'] ) / np.timedelta64(1, 's')\n",
    "\n",
    "timestamps_df_round.at['P3S1','length_second'] = ( timestamps_df_round.at['P3S1','end_time'] - timestamps_df_round.at['P3S1','start_time'] ) / np.timedelta64(1, 's')\n",
    "timestamps_df_round.at['P3S2','length_second'] = ( timestamps_df_round.at['P3S2','end_time'] - timestamps_df_round.at['P3S2','start_time'] ) / np.timedelta64(1, 's')\n",
    "timestamps_df_round.at['P3S3','length_second'] = ( timestamps_df_round.at['P3S3','end_time'] - timestamps_df_round.at['P3S3','start_time'] ) / np.timedelta64(1, 's')\n",
    "\n",
    "timestamps_df_round.at['P4S1','length_second'] = ( timestamps_df_round.at['P4S1','end_time'] - timestamps_df_round.at['P4S1','start_time'] ) / np.timedelta64(1, 's')\n",
    "timestamps_df_round.at['P4S2','length_second'] = ( timestamps_df_round.at['P4S2','end_time'] - timestamps_df_round.at['P4S2','start_time'] ) / np.timedelta64(1, 's')\n",
    "timestamps_df_round.at['P4S3','length_second'] = ( timestamps_df_round.at['P4S3','end_time'] - timestamps_df_round.at['P4S3','start_time'] ) / np.timedelta64(1, 's')\n",
    "\n",
    "print(timestamps_df_round['length_second'])"
   ]
  },
  {
   "cell_type": "code",
   "execution_count": 21,
   "metadata": {},
   "outputs": [
    {
     "name": "stdout",
     "output_type": "stream",
     "text": [
      "                        start_time            end_time  start_second  \\\n",
      "phase_scenario                                                         \n",
      "P1S1           2019-12-06 09:08:20 2019-12-06 09:13:53           116   \n",
      "P1S2           2019-12-06 09:15:11 2019-12-06 09:20:26           527   \n",
      "P1S3           2019-12-06 09:21:43 2019-12-06 09:26:53           919   \n",
      "P2S1           2019-12-06 09:59:54 2019-12-06 10:05:11           564   \n",
      "P2S2           2019-12-06 10:06:05 2019-12-06 10:11:50           935   \n",
      "P2S3           2019-12-06 10:12:26 2019-12-06 10:17:35          1316   \n",
      "P3S1           2019-12-06 10:39:19 2019-12-06 10:44:36            20   \n",
      "P3S2           2019-12-06 10:48:48 2019-12-06 10:54:00           589   \n",
      "P3S3           2019-12-06 10:55:08 2019-12-06 11:01:18           969   \n",
      "P4S1           2019-12-06 12:01:05 2019-12-06 12:06:16           249   \n",
      "P4S2           2019-12-06 12:08:24 2019-12-06 12:13:36           688   \n",
      "P4S3           2019-12-06 12:15:13 2019-12-06 12:20:45          1097   \n",
      "\n",
      "                length_second  \n",
      "phase_scenario                 \n",
      "P1S1                      333  \n",
      "P1S2                      315  \n",
      "P1S3                      310  \n",
      "P2S1                      317  \n",
      "P2S2                      345  \n",
      "P2S3                      309  \n",
      "P3S1                      317  \n",
      "P3S2                      312  \n",
      "P3S3                      370  \n",
      "P4S1                      311  \n",
      "P4S2                      312  \n",
      "P4S3                      332  \n"
     ]
    }
   ],
   "source": [
    "print(timestamps_df_round)"
   ]
  },
  {
   "cell_type": "code",
   "execution_count": 34,
   "metadata": {},
   "outputs": [],
   "source": [
    "# write to csv file as needed for ffmpeg-split\n",
    "csv_df = timestamps_df_round[['start_second','length_second']].copy(deep=True) # copy 2 needed columns"
   ]
  },
  {
   "cell_type": "code",
   "execution_count": 48,
   "metadata": {},
   "outputs": [
    {
     "name": "stdout",
     "output_type": "stream",
     "text": [
      "                start_second  length_second\n",
      "phase_scenario                             \n",
      "P1S1                     116            333\n",
      "P1S2                     527            315\n",
      "P1S3                     919            310\n",
      "   start_second  length_second rename_to\n",
      "0           116            333      P1S1\n",
      "1           527            315      P1S2\n",
      "2           919            310      P1S3\n",
      "   start_time  length rename_to\n",
      "0         116     333      P1S1\n",
      "1         527     315      P1S2\n",
      "2         919     310      P1S3\n"
     ]
    }
   ],
   "source": [
    "csv_df_1 = csv_df.drop(['P2S1', 'P2S2', 'P2S3', 'P3S1', 'P3S2', 'P3S3','P4S1', 'P4S2', 'P4S3']) # drop all data except 1 video\n",
    "print(csv_df_1) # Debug\n",
    "\n",
    "csv_df_1['rename_to'] = csv_df_1.index # move index to column\n",
    "csv_df_1 = csv_df_1.reset_index(drop=True) # reset index\n",
    "print(csv_df_1) # Debug\n",
    "\n",
    "# rename to ffmpeg-split convention\n",
    "csv_df_1 = csv_df_1.rename(columns={\"start_second\": \"start_time\", \"length_second\": \"length\"})\n",
    "print(csv_df_1) # Debug\n",
    "\n",
    "# write csv file\n",
    "csv_df_1.to_csv('1.csv', index=False)"
   ]
  },
  {
   "cell_type": "code",
   "execution_count": 37,
   "metadata": {},
   "outputs": [],
   "source": []
  },
  {
   "cell_type": "code",
   "execution_count": 19,
   "metadata": {},
   "outputs": [],
   "source": []
  },
  {
   "cell_type": "code",
   "execution_count": 19,
   "metadata": {},
   "outputs": [
    {
     "data": {
      "text/html": [
       "<div>\n",
       "<style scoped>\n",
       "    .dataframe tbody tr th:only-of-type {\n",
       "        vertical-align: middle;\n",
       "    }\n",
       "\n",
       "    .dataframe tbody tr th {\n",
       "        vertical-align: top;\n",
       "    }\n",
       "\n",
       "    .dataframe thead th {\n",
       "        text-align: right;\n",
       "    }\n",
       "</style>\n",
       "<table border=\"1\" class=\"dataframe\">\n",
       "  <thead>\n",
       "    <tr style=\"text-align: right;\">\n",
       "      <th></th>\n",
       "      <th>col1</th>\n",
       "      <th>col2</th>\n",
       "    </tr>\n",
       "  </thead>\n",
       "  <tbody>\n",
       "    <tr>\n",
       "      <th>0</th>\n",
       "      <td>1</td>\n",
       "      <td>3</td>\n",
       "    </tr>\n",
       "    <tr>\n",
       "      <th>1</th>\n",
       "      <td>2</td>\n",
       "      <td>4</td>\n",
       "    </tr>\n",
       "  </tbody>\n",
       "</table>\n",
       "</div>"
      ],
      "text/plain": [
       "   col1  col2\n",
       "0     1     3\n",
       "1     2     4"
      ]
     },
     "execution_count": 19,
     "metadata": {},
     "output_type": "execute_result"
    }
   ],
   "source": [
    "# Basic Example\n",
    "d = {'col1': [1, 2], 'col2': [3, 4]}\n",
    "df = pd.DataFrame(data=d)\n",
    "df"
   ]
  },
  {
   "cell_type": "code",
   "execution_count": null,
   "metadata": {},
   "outputs": [],
   "source": []
  },
  {
   "cell_type": "code",
   "execution_count": null,
   "metadata": {},
   "outputs": [],
   "source": []
  }
 ],
 "metadata": {
  "kernelspec": {
   "display_name": "Python 3",
   "language": "python",
   "name": "python3"
  },
  "language_info": {
   "codemirror_mode": {
    "name": "ipython",
    "version": 3
   },
   "file_extension": ".py",
   "mimetype": "text/x-python",
   "name": "python",
   "nbconvert_exporter": "python",
   "pygments_lexer": "ipython3",
   "version": "3.7.0"
  }
 },
 "nbformat": 4,
 "nbformat_minor": 2
}
