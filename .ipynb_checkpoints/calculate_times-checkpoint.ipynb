{
 "cells": [
  {
   "cell_type": "code",
   "execution_count": 1,
   "metadata": {},
   "outputs": [],
   "source": [
    "import numpy as np\n",
    "import pandas as pd\n",
    "import csv\n",
    "import datetime\n",
    "\n",
    "import re\n",
    "import os\n",
    "import glob"
   ]
  },
  {
   "cell_type": "code",
   "execution_count": 2,
   "metadata": {},
   "outputs": [],
   "source": [
    "# Change here for every participant\n",
    "DATA_FOLDER = 'T:/lab-study/20191206_HW-105-V3'"
   ]
  },
  {
   "cell_type": "code",
   "execution_count": 3,
   "metadata": {},
   "outputs": [],
   "source": [
    "# VIDEO FILES: list of all 4 video files (one for each phase)\n",
    "video_paths = glob.glob(DATA_FOLDER + '/output/video/*.flv_camera_front.mp4')\n",
    "\n",
    "# TIMESTAMPS PHASES\n",
    "timestamp_path = glob.glob(DATA_FOLDER + '/timestamps.csv')\n",
    "timestamp_path = timestamp_path[0] # take first element from list and convert to string"
   ]
  },
  {
   "cell_type": "code",
   "execution_count": 4,
   "metadata": {},
   "outputs": [],
   "source": [
    "# get start times of videos from video file folder as df\n",
    "def read_videostamps_df(file_paths, debug):\n",
    "    video_files = []\n",
    "    video_time = []\n",
    "\n",
    "    # convert paths to consistend slashing\n",
    "    for x in range(0,4):\n",
    "        video_files.append(os.path.normpath(file_paths[x]))\n",
    "        if debug == True:\n",
    "            print(x)\n",
    "            print(video_files[x])\n",
    "    \n",
    "        # cut timestamp from video pathname\n",
    "        temp = video_files[x].split(\"video\\\\\", 1)\n",
    "        temp = temp[1].split(\".flv\", 1)\n",
    "        video_time.append(temp[0])\n",
    "        if debug == True:\n",
    "            print(video_time)\n",
    "    \n",
    "    # generate dataframe\n",
    "    videostamps_df = pd.DataFrame(video_time)\n",
    "\n",
    "    # name dataframe index and columns\n",
    "    videostamps_df.index = ['P1', 'P2', 'P3', 'P4']\n",
    "    videostamps_df.index.name = 'phase'\n",
    "    videostamps_df.columns = ['video_time']\n",
    "    \n",
    "    return videostamps_df"
   ]
  },
  {
   "cell_type": "code",
   "execution_count": 5,
   "metadata": {},
   "outputs": [],
   "source": [
    "# read start and endtime timestamps as df\n",
    "def read_organize_timestamps_df(file_path, skiprows):\n",
    "\n",
    "    timestamps_df = pd.read_csv(file_path, sep=';', index_col=None, header=None, skiprows=skiprows, parse_dates=[0])\n",
    "    \n",
    "    # name index as phase(x: 1 to 4) and scenario (y: 1 to 3) with shortcut PxSy\n",
    "    timestamps_df.index = ['P1S1', 'P1S2', 'P1S3', 'P2S1', 'P2S2', 'P2S3', 'P3S1', 'P3S2', 'P3S3','P4S1', 'P4S2', 'P4S3']\n",
    "    timestamps_df.index.name = 'phase_scenario'\n",
    "    # name columns\n",
    "    timestamps_df.columns = ['start_time','end_time']\n",
    "    \n",
    "    return timestamps_df"
   ]
  },
  {
   "cell_type": "code",
   "execution_count": 6,
   "metadata": {},
   "outputs": [
    {
     "name": "stdout",
     "output_type": "stream",
     "text": [
      "0\n",
      "0\n",
      "1\n",
      "1\n",
      "2\n",
      "2\n",
      "3\n",
      "3\n"
     ]
    }
   ],
   "source": [
    "# Debugging\n",
    "\n",
    "video_files = []\n",
    "\n",
    "for x in range(0,4):\n",
    "            print(x)\n",
    "            video_files.append(x)\n",
    "            print(video_files[x])"
   ]
  },
  {
   "cell_type": "code",
   "execution_count": 7,
   "metadata": {},
   "outputs": [
    {
     "name": "stdout",
     "output_type": "stream",
     "text": [
      "                 video_time\n",
      "phase                      \n",
      "P1     2019-12-06--09-06-24\n",
      "P2     2019-12-06--09-50-30\n",
      "P3     2019-12-06--10-38-59\n",
      "P4     2019-12-06--11-56-56\n",
      "                              start_time                  end_time\n",
      "phase_scenario                                                    \n",
      "P1S1            2019-12-06--09-08-19-172  2019-12-06--09-13-53-370\n",
      "P1S2            2019-12-06--09-15-10-608  2019-12-06--09-20-26-580\n",
      "P1S3            2019-12-06--09-21-42-144  2019-12-06--09-26-53-050\n",
      "P2S1            2019-12-06--09-59-53-322  2019-12-06--10-05-11-980\n",
      "P2S2            2019-12-06--10-06-04-595  2019-12-06--10-11-50-100\n",
      "P2S3            2019-12-06--10-12-25-413  2019-12-06--10-17-35-510\n",
      "P3S1            2019-12-06--10-39-18-004  2019-12-06--10-44-36-740\n",
      "P3S2            2019-12-06--10-48-47-945  2019-12-06--10-54-00-450\n",
      "P3S3            2019-12-06--10-55-07-041  2019-12-06--11-01-18-430\n",
      "P4S1            2019-12-06--12-01-04-478  2019-12-06--12-06-16-310\n",
      "P4S2            2019-12-06--12-08-23-010  2019-12-06--12-13-36-910\n",
      "P4S3            2019-12-06--12-15-12-222  2019-12-06--12-20-45-370\n"
     ]
    }
   ],
   "source": [
    "# get start times of videos from video file folder as df\n",
    "videostamps_df = read_videostamps_df(video_paths, debug = False)\n",
    "print(videostamps_df)\n",
    "\n",
    "# read and organize timestamps as df (delete test drives)\n",
    "timestamps_df = read_organize_timestamps_df(timestamp_path, skiprows=3)\n",
    "print(timestamps_df)"
   ]
  },
  {
   "cell_type": "code",
   "execution_count": 8,
   "metadata": {},
   "outputs": [
    {
     "name": "stdout",
     "output_type": "stream",
     "text": [
      "               video_time\n",
      "phase                    \n",
      "P1    2019-12-06 09:06:24\n",
      "P2    2019-12-06 09:50:30\n",
      "P3    2019-12-06 10:38:59\n",
      "P4    2019-12-06 11:56:56\n",
      "                            start_time                end_time\n",
      "phase_scenario                                                \n",
      "P1S1           2019-12-06 09:08:19.172 2019-12-06 09:13:53.370\n",
      "P1S2           2019-12-06 09:15:10.608 2019-12-06 09:20:26.580\n",
      "P1S3           2019-12-06 09:21:42.144 2019-12-06 09:26:53.050\n",
      "P2S1           2019-12-06 09:59:53.322 2019-12-06 10:05:11.980\n",
      "P2S2           2019-12-06 10:06:04.595 2019-12-06 10:11:50.100\n",
      "P2S3           2019-12-06 10:12:25.413 2019-12-06 10:17:35.510\n",
      "P3S1           2019-12-06 10:39:18.004 2019-12-06 10:44:36.740\n",
      "P3S2           2019-12-06 10:48:47.945 2019-12-06 10:54:00.450\n",
      "P3S3           2019-12-06 10:55:07.041 2019-12-06 11:01:18.430\n",
      "P4S1           2019-12-06 12:01:04.478 2019-12-06 12:06:16.310\n",
      "P4S2           2019-12-06 12:08:23.010 2019-12-06 12:13:36.910\n",
      "P4S3           2019-12-06 12:15:12.222 2019-12-06 12:20:45.370\n",
      "<class 'pandas.core.frame.DataFrame'>\n"
     ]
    }
   ],
   "source": [
    "# convert excel format to datetime\n",
    "videostamps_df['video_time'] = pd.to_datetime(videostamps_df['video_time'], format='%Y-%m-%d--%H-%M-%S')\n",
    "print(videostamps_df)\n",
    "\n",
    "timestamps_df['start_time'] = pd.to_datetime(timestamps_df['start_time'], format='%Y-%m-%d--%H-%M-%S-%f')\n",
    "timestamps_df['end_time'] = pd.to_datetime(timestamps_df['end_time'], format='%Y-%m-%d--%H-%M-%S-%f')\n",
    "print(timestamps_df)\n",
    "print(type(timestamps_df))"
   ]
  },
  {
   "cell_type": "code",
   "execution_count": 9,
   "metadata": {},
   "outputs": [],
   "source": [
    "def round_milliseconds(dt, direction):\n",
    "    new_second = (dt.second + (1 if direction == 'up' else 0))\n",
    "    new_dt = datetime.datetime(dt.year, dt.month, dt.day, dt.hour, dt.minute, new_second)\n",
    "    return new_dt"
   ]
  },
  {
   "cell_type": "code",
   "execution_count": 10,
   "metadata": {},
   "outputs": [
    {
     "name": "stdout",
     "output_type": "stream",
     "text": [
      "2019-12-06 09:08:20\n",
      "<class 'datetime.datetime'>\n",
      "2019-12-06 09:08:19\n",
      "<class 'datetime.datetime'>\n"
     ]
    }
   ],
   "source": [
    "# Debugging\n",
    "test = round_milliseconds(pd.to_datetime(timestamps_df.at['P1S1','start_time']), direction = 'up')\n",
    "print(test)\n",
    "print(type(test))\n",
    "\n",
    "test = round_milliseconds(pd.to_datetime(timestamps_df.at['P1S1','start_time']), direction = 'down')\n",
    "print(test)\n",
    "print(type(test))"
   ]
  },
  {
   "cell_type": "code",
   "execution_count": 11,
   "metadata": {},
   "outputs": [],
   "source": [
    "# round millisecond timestamps to seconds: up for starttime, down for endtime\n",
    "def round_timestamps(timestamps_df, debug):\n",
    "    # make copy, changes not reflected in original\n",
    "    timestamps_df_round = timestamps_df.copy(deep=True)\n",
    "                                             \n",
    "    for row in timestamps_df_round.index:\n",
    "        if debug == True:\n",
    "            print(row)\n",
    "\n",
    "        for column in timestamps_df_round.columns:\n",
    "            if debug == True:\n",
    "                print(column)\n",
    "            if column == 'start_time':\n",
    "                timestamps_df_round.at[row, column] = round_milliseconds(pd.to_datetime(timestamps_df_round.at[row, column]), direction = 'up')\n",
    "            if column == 'end_time':\n",
    "                timestamps_df_round.at[row, column] = round_milliseconds(pd.to_datetime(timestamps_df_round.at[row, column]), direction = 'down')\n",
    "    \n",
    "    return timestamps_df_round"
   ]
  },
  {
   "cell_type": "code",
   "execution_count": 12,
   "metadata": {},
   "outputs": [
    {
     "name": "stdout",
     "output_type": "stream",
     "text": [
      "                            start_time                end_time\n",
      "phase_scenario                                                \n",
      "P1S1           2019-12-06 09:08:19.172 2019-12-06 09:13:53.370\n",
      "P1S2           2019-12-06 09:15:10.608 2019-12-06 09:20:26.580\n",
      "P1S3           2019-12-06 09:21:42.144 2019-12-06 09:26:53.050\n",
      "P2S1           2019-12-06 09:59:53.322 2019-12-06 10:05:11.980\n",
      "P2S2           2019-12-06 10:06:04.595 2019-12-06 10:11:50.100\n",
      "P2S3           2019-12-06 10:12:25.413 2019-12-06 10:17:35.510\n",
      "P3S1           2019-12-06 10:39:18.004 2019-12-06 10:44:36.740\n",
      "P3S2           2019-12-06 10:48:47.945 2019-12-06 10:54:00.450\n",
      "P3S3           2019-12-06 10:55:07.041 2019-12-06 11:01:18.430\n",
      "P4S1           2019-12-06 12:01:04.478 2019-12-06 12:06:16.310\n",
      "P4S2           2019-12-06 12:08:23.010 2019-12-06 12:13:36.910\n",
      "P4S3           2019-12-06 12:15:12.222 2019-12-06 12:20:45.370\n",
      "                        start_time            end_time\n",
      "phase_scenario                                        \n",
      "P1S1           2019-12-06 09:08:20 2019-12-06 09:13:53\n",
      "P1S2           2019-12-06 09:15:11 2019-12-06 09:20:26\n",
      "P1S3           2019-12-06 09:21:43 2019-12-06 09:26:53\n",
      "P2S1           2019-12-06 09:59:54 2019-12-06 10:05:11\n",
      "P2S2           2019-12-06 10:06:05 2019-12-06 10:11:50\n",
      "P2S3           2019-12-06 10:12:26 2019-12-06 10:17:35\n",
      "P3S1           2019-12-06 10:39:19 2019-12-06 10:44:36\n",
      "P3S2           2019-12-06 10:48:48 2019-12-06 10:54:00\n",
      "P3S3           2019-12-06 10:55:08 2019-12-06 11:01:18\n",
      "P4S1           2019-12-06 12:01:05 2019-12-06 12:06:16\n",
      "P4S2           2019-12-06 12:08:24 2019-12-06 12:13:36\n",
      "P4S3           2019-12-06 12:15:13 2019-12-06 12:20:45\n"
     ]
    }
   ],
   "source": [
    "timestamps_df_round = round_timestamps(timestamps_df, debug = False)\n",
    "\n",
    "# Debugging\n",
    "print(timestamps_df)\n",
    "print(timestamps_df_round)"
   ]
  },
  {
   "cell_type": "code",
   "execution_count": 13,
   "metadata": {},
   "outputs": [
    {
     "name": "stdout",
     "output_type": "stream",
     "text": [
      "video_time   2019-12-06 09:06:24\n",
      "Name: P1, dtype: datetime64[ns]\n",
      "video_time   2019-12-06 09:06:24\n",
      "Name: P1, dtype: datetime64[ns]\n",
      "phase_scenario\n",
      "P1S1   2019-12-06 09:08:20\n",
      "P1S2   2019-12-06 09:15:11\n",
      "P1S3   2019-12-06 09:21:43\n",
      "P2S1   2019-12-06 09:59:54\n",
      "P2S2   2019-12-06 10:06:05\n",
      "P2S3   2019-12-06 10:12:26\n",
      "P3S1   2019-12-06 10:39:19\n",
      "P3S2   2019-12-06 10:48:48\n",
      "P3S3   2019-12-06 10:55:08\n",
      "P4S1   2019-12-06 12:01:05\n",
      "P4S2   2019-12-06 12:08:24\n",
      "P4S3   2019-12-06 12:15:13\n",
      "Name: start_time, dtype: datetime64[ns]\n",
      "phase_scenario\n",
      "P1S1   2019-12-06 09:08:20\n",
      "P1S2   2019-12-06 09:15:11\n",
      "P1S3   2019-12-06 09:21:43\n",
      "P2S1   2019-12-06 09:59:54\n",
      "P2S2   2019-12-06 10:06:05\n",
      "P2S3   2019-12-06 10:12:26\n",
      "P3S1   2019-12-06 10:39:19\n",
      "P3S2   2019-12-06 10:48:48\n",
      "P3S3   2019-12-06 10:55:08\n",
      "P4S1   2019-12-06 12:01:05\n",
      "P4S2   2019-12-06 12:08:24\n",
      "P4S3   2019-12-06 12:15:13\n",
      "Name: start_time, dtype: datetime64[ns]\n"
     ]
    }
   ],
   "source": [
    "print(videostamps_df.iloc[0])\n",
    "print(pd.to_datetime(videostamps_df.iloc[0]))\n",
    "\n",
    "print(timestamps_df_round['start_time'])\n",
    "print(pd.to_datetime(timestamps_df_round['start_time']))"
   ]
  },
  {
   "cell_type": "code",
   "execution_count": null,
   "metadata": {},
   "outputs": [],
   "source": [
    "#timestamps_df_round['start_second'] = ( timestamps_df_round['start_time'].apply(lambda x: x - videostamps_df.iloc[0]) / np.timedelta64(1, 'ns') )"
   ]
  },
  {
   "cell_type": "code",
   "execution_count": null,
   "metadata": {},
   "outputs": [],
   "source": [
    "#print(timestamps_df_round['start_second'])"
   ]
  },
  {
   "cell_type": "code",
   "execution_count": 14,
   "metadata": {},
   "outputs": [
    {
     "ename": "KeyError",
     "evalue": "'start_second'",
     "output_type": "error",
     "traceback": [
      "\u001b[1;31m---------------------------------------------------------------------------\u001b[0m",
      "\u001b[1;31mKeyError\u001b[0m                                  Traceback (most recent call last)",
      "\u001b[1;32m~\\Anaconda3\\lib\\site-packages\\pandas\\core\\indexes\\base.py\u001b[0m in \u001b[0;36mget_loc\u001b[1;34m(self, key, method, tolerance)\u001b[0m\n\u001b[0;32m   3077\u001b[0m             \u001b[1;32mtry\u001b[0m\u001b[1;33m:\u001b[0m\u001b[1;33m\u001b[0m\u001b[0m\n\u001b[1;32m-> 3078\u001b[1;33m                 \u001b[1;32mreturn\u001b[0m \u001b[0mself\u001b[0m\u001b[1;33m.\u001b[0m\u001b[0m_engine\u001b[0m\u001b[1;33m.\u001b[0m\u001b[0mget_loc\u001b[0m\u001b[1;33m(\u001b[0m\u001b[0mkey\u001b[0m\u001b[1;33m)\u001b[0m\u001b[1;33m\u001b[0m\u001b[0m\n\u001b[0m\u001b[0;32m   3079\u001b[0m             \u001b[1;32mexcept\u001b[0m \u001b[0mKeyError\u001b[0m\u001b[1;33m:\u001b[0m\u001b[1;33m\u001b[0m\u001b[0m\n",
      "\u001b[1;32mpandas\\_libs\\index.pyx\u001b[0m in \u001b[0;36mpandas._libs.index.IndexEngine.get_loc\u001b[1;34m()\u001b[0m\n",
      "\u001b[1;32mpandas\\_libs\\index.pyx\u001b[0m in \u001b[0;36mpandas._libs.index.IndexEngine.get_loc\u001b[1;34m()\u001b[0m\n",
      "\u001b[1;32mpandas\\_libs\\hashtable_class_helper.pxi\u001b[0m in \u001b[0;36mpandas._libs.hashtable.PyObjectHashTable.get_item\u001b[1;34m()\u001b[0m\n",
      "\u001b[1;32mpandas\\_libs\\hashtable_class_helper.pxi\u001b[0m in \u001b[0;36mpandas._libs.hashtable.PyObjectHashTable.get_item\u001b[1;34m()\u001b[0m\n",
      "\u001b[1;31mKeyError\u001b[0m: 'start_second'",
      "\nDuring handling of the above exception, another exception occurred:\n",
      "\u001b[1;31mKeyError\u001b[0m                                  Traceback (most recent call last)",
      "\u001b[1;32m<ipython-input-14-b1da41b7d9b3>\u001b[0m in \u001b[0;36m<module>\u001b[1;34m()\u001b[0m\n\u001b[1;32m----> 1\u001b[1;33m \u001b[0mtimestamps_df_round\u001b[0m\u001b[1;33m.\u001b[0m\u001b[0mat\u001b[0m\u001b[1;33m[\u001b[0m\u001b[1;34m'P1S1'\u001b[0m\u001b[1;33m,\u001b[0m\u001b[1;34m'start_second'\u001b[0m\u001b[1;33m]\u001b[0m\u001b[1;33m\u001b[0m\u001b[0m\n\u001b[0m\u001b[0;32m      2\u001b[0m \u001b[0mtimestamps_df_round\u001b[0m\u001b[1;33m.\u001b[0m\u001b[0mat\u001b[0m\u001b[1;33m[\u001b[0m\u001b[1;34m'P1S1'\u001b[0m\u001b[1;33m,\u001b[0m\u001b[1;34m'start_time'\u001b[0m\u001b[1;33m]\u001b[0m\u001b[1;33m\u001b[0m\u001b[0m\n",
      "\u001b[1;32m~\\Anaconda3\\lib\\site-packages\\pandas\\core\\indexing.py\u001b[0m in \u001b[0;36m__getitem__\u001b[1;34m(self, key)\u001b[0m\n\u001b[0;32m   2140\u001b[0m \u001b[1;33m\u001b[0m\u001b[0m\n\u001b[0;32m   2141\u001b[0m         \u001b[0mkey\u001b[0m \u001b[1;33m=\u001b[0m \u001b[0mself\u001b[0m\u001b[1;33m.\u001b[0m\u001b[0m_convert_key\u001b[0m\u001b[1;33m(\u001b[0m\u001b[0mkey\u001b[0m\u001b[1;33m)\u001b[0m\u001b[1;33m\u001b[0m\u001b[0m\n\u001b[1;32m-> 2142\u001b[1;33m         \u001b[1;32mreturn\u001b[0m \u001b[0mself\u001b[0m\u001b[1;33m.\u001b[0m\u001b[0mobj\u001b[0m\u001b[1;33m.\u001b[0m\u001b[0m_get_value\u001b[0m\u001b[1;33m(\u001b[0m\u001b[1;33m*\u001b[0m\u001b[0mkey\u001b[0m\u001b[1;33m,\u001b[0m \u001b[0mtakeable\u001b[0m\u001b[1;33m=\u001b[0m\u001b[0mself\u001b[0m\u001b[1;33m.\u001b[0m\u001b[0m_takeable\u001b[0m\u001b[1;33m)\u001b[0m\u001b[1;33m\u001b[0m\u001b[0m\n\u001b[0m\u001b[0;32m   2143\u001b[0m \u001b[1;33m\u001b[0m\u001b[0m\n\u001b[0;32m   2144\u001b[0m     \u001b[1;32mdef\u001b[0m \u001b[0m__setitem__\u001b[0m\u001b[1;33m(\u001b[0m\u001b[0mself\u001b[0m\u001b[1;33m,\u001b[0m \u001b[0mkey\u001b[0m\u001b[1;33m,\u001b[0m \u001b[0mvalue\u001b[0m\u001b[1;33m)\u001b[0m\u001b[1;33m:\u001b[0m\u001b[1;33m\u001b[0m\u001b[0m\n",
      "\u001b[1;32m~\\Anaconda3\\lib\\site-packages\\pandas\\core\\frame.py\u001b[0m in \u001b[0;36m_get_value\u001b[1;34m(self, index, col, takeable)\u001b[0m\n\u001b[0;32m   2533\u001b[0m             \u001b[1;32mreturn\u001b[0m \u001b[0mcom\u001b[0m\u001b[1;33m.\u001b[0m\u001b[0m_maybe_box_datetimelike\u001b[0m\u001b[1;33m(\u001b[0m\u001b[0mseries\u001b[0m\u001b[1;33m.\u001b[0m\u001b[0m_values\u001b[0m\u001b[1;33m[\u001b[0m\u001b[0mindex\u001b[0m\u001b[1;33m]\u001b[0m\u001b[1;33m)\u001b[0m\u001b[1;33m\u001b[0m\u001b[0m\n\u001b[0;32m   2534\u001b[0m \u001b[1;33m\u001b[0m\u001b[0m\n\u001b[1;32m-> 2535\u001b[1;33m         \u001b[0mseries\u001b[0m \u001b[1;33m=\u001b[0m \u001b[0mself\u001b[0m\u001b[1;33m.\u001b[0m\u001b[0m_get_item_cache\u001b[0m\u001b[1;33m(\u001b[0m\u001b[0mcol\u001b[0m\u001b[1;33m)\u001b[0m\u001b[1;33m\u001b[0m\u001b[0m\n\u001b[0m\u001b[0;32m   2536\u001b[0m         \u001b[0mengine\u001b[0m \u001b[1;33m=\u001b[0m \u001b[0mself\u001b[0m\u001b[1;33m.\u001b[0m\u001b[0mindex\u001b[0m\u001b[1;33m.\u001b[0m\u001b[0m_engine\u001b[0m\u001b[1;33m\u001b[0m\u001b[0m\n\u001b[0;32m   2537\u001b[0m \u001b[1;33m\u001b[0m\u001b[0m\n",
      "\u001b[1;32m~\\Anaconda3\\lib\\site-packages\\pandas\\core\\generic.py\u001b[0m in \u001b[0;36m_get_item_cache\u001b[1;34m(self, item)\u001b[0m\n\u001b[0;32m   2487\u001b[0m         \u001b[0mres\u001b[0m \u001b[1;33m=\u001b[0m \u001b[0mcache\u001b[0m\u001b[1;33m.\u001b[0m\u001b[0mget\u001b[0m\u001b[1;33m(\u001b[0m\u001b[0mitem\u001b[0m\u001b[1;33m)\u001b[0m\u001b[1;33m\u001b[0m\u001b[0m\n\u001b[0;32m   2488\u001b[0m         \u001b[1;32mif\u001b[0m \u001b[0mres\u001b[0m \u001b[1;32mis\u001b[0m \u001b[1;32mNone\u001b[0m\u001b[1;33m:\u001b[0m\u001b[1;33m\u001b[0m\u001b[0m\n\u001b[1;32m-> 2489\u001b[1;33m             \u001b[0mvalues\u001b[0m \u001b[1;33m=\u001b[0m \u001b[0mself\u001b[0m\u001b[1;33m.\u001b[0m\u001b[0m_data\u001b[0m\u001b[1;33m.\u001b[0m\u001b[0mget\u001b[0m\u001b[1;33m(\u001b[0m\u001b[0mitem\u001b[0m\u001b[1;33m)\u001b[0m\u001b[1;33m\u001b[0m\u001b[0m\n\u001b[0m\u001b[0;32m   2490\u001b[0m             \u001b[0mres\u001b[0m \u001b[1;33m=\u001b[0m \u001b[0mself\u001b[0m\u001b[1;33m.\u001b[0m\u001b[0m_box_item_values\u001b[0m\u001b[1;33m(\u001b[0m\u001b[0mitem\u001b[0m\u001b[1;33m,\u001b[0m \u001b[0mvalues\u001b[0m\u001b[1;33m)\u001b[0m\u001b[1;33m\u001b[0m\u001b[0m\n\u001b[0;32m   2491\u001b[0m             \u001b[0mcache\u001b[0m\u001b[1;33m[\u001b[0m\u001b[0mitem\u001b[0m\u001b[1;33m]\u001b[0m \u001b[1;33m=\u001b[0m \u001b[0mres\u001b[0m\u001b[1;33m\u001b[0m\u001b[0m\n",
      "\u001b[1;32m~\\Anaconda3\\lib\\site-packages\\pandas\\core\\internals.py\u001b[0m in \u001b[0;36mget\u001b[1;34m(self, item, fastpath)\u001b[0m\n\u001b[0;32m   4113\u001b[0m \u001b[1;33m\u001b[0m\u001b[0m\n\u001b[0;32m   4114\u001b[0m             \u001b[1;32mif\u001b[0m \u001b[1;32mnot\u001b[0m \u001b[0misna\u001b[0m\u001b[1;33m(\u001b[0m\u001b[0mitem\u001b[0m\u001b[1;33m)\u001b[0m\u001b[1;33m:\u001b[0m\u001b[1;33m\u001b[0m\u001b[0m\n\u001b[1;32m-> 4115\u001b[1;33m                 \u001b[0mloc\u001b[0m \u001b[1;33m=\u001b[0m \u001b[0mself\u001b[0m\u001b[1;33m.\u001b[0m\u001b[0mitems\u001b[0m\u001b[1;33m.\u001b[0m\u001b[0mget_loc\u001b[0m\u001b[1;33m(\u001b[0m\u001b[0mitem\u001b[0m\u001b[1;33m)\u001b[0m\u001b[1;33m\u001b[0m\u001b[0m\n\u001b[0m\u001b[0;32m   4116\u001b[0m             \u001b[1;32melse\u001b[0m\u001b[1;33m:\u001b[0m\u001b[1;33m\u001b[0m\u001b[0m\n\u001b[0;32m   4117\u001b[0m                 \u001b[0mindexer\u001b[0m \u001b[1;33m=\u001b[0m \u001b[0mnp\u001b[0m\u001b[1;33m.\u001b[0m\u001b[0marange\u001b[0m\u001b[1;33m(\u001b[0m\u001b[0mlen\u001b[0m\u001b[1;33m(\u001b[0m\u001b[0mself\u001b[0m\u001b[1;33m.\u001b[0m\u001b[0mitems\u001b[0m\u001b[1;33m)\u001b[0m\u001b[1;33m)\u001b[0m\u001b[1;33m[\u001b[0m\u001b[0misna\u001b[0m\u001b[1;33m(\u001b[0m\u001b[0mself\u001b[0m\u001b[1;33m.\u001b[0m\u001b[0mitems\u001b[0m\u001b[1;33m)\u001b[0m\u001b[1;33m]\u001b[0m\u001b[1;33m\u001b[0m\u001b[0m\n",
      "\u001b[1;32m~\\Anaconda3\\lib\\site-packages\\pandas\\core\\indexes\\base.py\u001b[0m in \u001b[0;36mget_loc\u001b[1;34m(self, key, method, tolerance)\u001b[0m\n\u001b[0;32m   3078\u001b[0m                 \u001b[1;32mreturn\u001b[0m \u001b[0mself\u001b[0m\u001b[1;33m.\u001b[0m\u001b[0m_engine\u001b[0m\u001b[1;33m.\u001b[0m\u001b[0mget_loc\u001b[0m\u001b[1;33m(\u001b[0m\u001b[0mkey\u001b[0m\u001b[1;33m)\u001b[0m\u001b[1;33m\u001b[0m\u001b[0m\n\u001b[0;32m   3079\u001b[0m             \u001b[1;32mexcept\u001b[0m \u001b[0mKeyError\u001b[0m\u001b[1;33m:\u001b[0m\u001b[1;33m\u001b[0m\u001b[0m\n\u001b[1;32m-> 3080\u001b[1;33m                 \u001b[1;32mreturn\u001b[0m \u001b[0mself\u001b[0m\u001b[1;33m.\u001b[0m\u001b[0m_engine\u001b[0m\u001b[1;33m.\u001b[0m\u001b[0mget_loc\u001b[0m\u001b[1;33m(\u001b[0m\u001b[0mself\u001b[0m\u001b[1;33m.\u001b[0m\u001b[0m_maybe_cast_indexer\u001b[0m\u001b[1;33m(\u001b[0m\u001b[0mkey\u001b[0m\u001b[1;33m)\u001b[0m\u001b[1;33m)\u001b[0m\u001b[1;33m\u001b[0m\u001b[0m\n\u001b[0m\u001b[0;32m   3081\u001b[0m \u001b[1;33m\u001b[0m\u001b[0m\n\u001b[0;32m   3082\u001b[0m         \u001b[0mindexer\u001b[0m \u001b[1;33m=\u001b[0m \u001b[0mself\u001b[0m\u001b[1;33m.\u001b[0m\u001b[0mget_indexer\u001b[0m\u001b[1;33m(\u001b[0m\u001b[1;33m[\u001b[0m\u001b[0mkey\u001b[0m\u001b[1;33m]\u001b[0m\u001b[1;33m,\u001b[0m \u001b[0mmethod\u001b[0m\u001b[1;33m=\u001b[0m\u001b[0mmethod\u001b[0m\u001b[1;33m,\u001b[0m \u001b[0mtolerance\u001b[0m\u001b[1;33m=\u001b[0m\u001b[0mtolerance\u001b[0m\u001b[1;33m)\u001b[0m\u001b[1;33m\u001b[0m\u001b[0m\n",
      "\u001b[1;32mpandas\\_libs\\index.pyx\u001b[0m in \u001b[0;36mpandas._libs.index.IndexEngine.get_loc\u001b[1;34m()\u001b[0m\n",
      "\u001b[1;32mpandas\\_libs\\index.pyx\u001b[0m in \u001b[0;36mpandas._libs.index.IndexEngine.get_loc\u001b[1;34m()\u001b[0m\n",
      "\u001b[1;32mpandas\\_libs\\hashtable_class_helper.pxi\u001b[0m in \u001b[0;36mpandas._libs.hashtable.PyObjectHashTable.get_item\u001b[1;34m()\u001b[0m\n",
      "\u001b[1;32mpandas\\_libs\\hashtable_class_helper.pxi\u001b[0m in \u001b[0;36mpandas._libs.hashtable.PyObjectHashTable.get_item\u001b[1;34m()\u001b[0m\n",
      "\u001b[1;31mKeyError\u001b[0m: 'start_second'"
     ]
    }
   ],
   "source": [
    "timestamps_df_round.at['P1S1','start_second']\n",
    "timestamps_df_round.at['P1S1','start_time']"
   ]
  },
  {
   "cell_type": "code",
   "execution_count": 19,
   "metadata": {},
   "outputs": [
    {
     "name": "stdout",
     "output_type": "stream",
     "text": [
      "                        start_time            end_time  start_second  \\\n",
      "phase_scenario                                                         \n",
      "P1S1           2019-12-06 09:08:20 2019-12-06 09:13:53             0   \n",
      "P1S2           2019-12-06 09:15:11 2019-12-06 09:20:26             0   \n",
      "P1S3           2019-12-06 09:21:43 2019-12-06 09:26:53             0   \n",
      "P2S1           2019-12-06 09:59:54 2019-12-06 10:05:11             0   \n",
      "P2S2           2019-12-06 10:06:05 2019-12-06 10:11:50             0   \n",
      "P2S3           2019-12-06 10:12:26 2019-12-06 10:17:35             0   \n",
      "P3S1           2019-12-06 10:39:19 2019-12-06 10:44:36             0   \n",
      "P3S2           2019-12-06 10:48:48 2019-12-06 10:54:00             0   \n",
      "P3S3           2019-12-06 10:55:08 2019-12-06 11:01:18             0   \n",
      "P4S1           2019-12-06 12:01:05 2019-12-06 12:06:16             0   \n",
      "P4S2           2019-12-06 12:08:24 2019-12-06 12:13:36             0   \n",
      "P4S3           2019-12-06 12:15:13 2019-12-06 12:20:45             0   \n",
      "\n",
      "                length_second  \n",
      "phase_scenario                 \n",
      "P1S1                        0  \n",
      "P1S2                        0  \n",
      "P1S3                        0  \n",
      "P2S1                        0  \n",
      "P2S2                        0  \n",
      "P2S3                        0  \n",
      "P3S1                        0  \n",
      "P3S2                        0  \n",
      "P3S3                        0  \n",
      "P4S1                        0  \n",
      "P4S2                        0  \n",
      "P4S3                        0  \n"
     ]
    }
   ],
   "source": [
    "# initialize (else error)\n",
    "timestamps_df_round['start_second'] = 0\n",
    "timestamps_df_round['length_second'] = 0\n",
    "print(timestamps_df_round)"
   ]
  },
  {
   "cell_type": "code",
   "execution_count": 18,
   "metadata": {},
   "outputs": [
    {
     "name": "stdout",
     "output_type": "stream",
     "text": [
      "                        start_time            end_time  start_second\n",
      "phase_scenario                                                      \n",
      "P1S1           2019-12-06 09:08:20 2019-12-06 09:13:53           116\n",
      "P1S2           2019-12-06 09:15:11 2019-12-06 09:20:26           527\n",
      "P1S3           2019-12-06 09:21:43 2019-12-06 09:26:53           919\n",
      "P2S1           2019-12-06 09:59:54 2019-12-06 10:05:11           564\n",
      "P2S2           2019-12-06 10:06:05 2019-12-06 10:11:50           935\n",
      "P2S3           2019-12-06 10:12:26 2019-12-06 10:17:35          1316\n",
      "P3S1           2019-12-06 10:39:19 2019-12-06 10:44:36            20\n",
      "P3S2           2019-12-06 10:48:48 2019-12-06 10:54:00           589\n",
      "P3S3           2019-12-06 10:55:08 2019-12-06 11:01:18           969\n",
      "P4S1           2019-12-06 12:01:05 2019-12-06 12:06:16           249\n",
      "P4S2           2019-12-06 12:08:24 2019-12-06 12:13:36           688\n",
      "P4S3           2019-12-06 12:15:13 2019-12-06 12:20:45          1097\n"
     ]
    }
   ],
   "source": [
    "# calculate start second of phase in corresponding video\n",
    "timestamps_df_round.at['P1S1','start_second'] = ( timestamps_df_round.at['P1S1','start_time'] - videostamps_df.iloc[0] ) / np.timedelta64(1, 's')\n",
    "timestamps_df_round.at['P1S2','start_second'] = ( timestamps_df_round.at['P1S2','start_time'] - videostamps_df.iloc[0] ) / np.timedelta64(1, 's')\n",
    "timestamps_df_round.at['P1S3','start_second'] = ( timestamps_df_round.at['P1S3','start_time'] - videostamps_df.iloc[0] ) / np.timedelta64(1, 's')\n",
    "\n",
    "timestamps_df_round.at['P2S1','start_second'] = ( timestamps_df_round.at['P2S1','start_time'] - videostamps_df.iloc[1] ) / np.timedelta64(1, 's')\n",
    "timestamps_df_round.at['P2S2','start_second'] = ( timestamps_df_round.at['P2S2','start_time'] - videostamps_df.iloc[1] ) / np.timedelta64(1, 's')\n",
    "timestamps_df_round.at['P2S3','start_second'] = ( timestamps_df_round.at['P2S3','start_time'] - videostamps_df.iloc[1] ) / np.timedelta64(1, 's')\n",
    "\n",
    "timestamps_df_round.at['P3S1','start_second'] = ( timestamps_df_round.at['P3S1','start_time'] - videostamps_df.iloc[2] ) / np.timedelta64(1, 's')\n",
    "timestamps_df_round.at['P3S2','start_second'] = ( timestamps_df_round.at['P3S2','start_time'] - videostamps_df.iloc[2] ) / np.timedelta64(1, 's')\n",
    "timestamps_df_round.at['P3S3','start_second'] = ( timestamps_df_round.at['P3S3','start_time'] - videostamps_df.iloc[2] ) / np.timedelta64(1, 's')\n",
    "\n",
    "timestamps_df_round.at['P4S1','start_second'] = ( timestamps_df_round.at['P4S1','start_time'] - videostamps_df.iloc[3] ) / np.timedelta64(1, 's')\n",
    "timestamps_df_round.at['P4S2','start_second'] = ( timestamps_df_round.at['P4S2','start_time'] - videostamps_df.iloc[3] ) / np.timedelta64(1, 's')\n",
    "timestamps_df_round.at['P4S3','start_second'] = ( timestamps_df_round.at['P4S3','start_time'] - videostamps_df.iloc[3] ) / np.timedelta64(1, 's')\n",
    "\n",
    "print(timestamps_df_round)"
   ]
  },
  {
   "cell_type": "code",
   "execution_count": null,
   "metadata": {},
   "outputs": [],
   "source": [
    "# calculate length of phase in corresponding video in unit [s]\n",
    "timestamps_df_round.at['P1S1','length_second'] = ( timestamps_df_round.at['P1S1','end_time'] - timestamps_df_round.at['P1S1','start_time'] ) / np.timedelta64(1, 's')\n",
    "timestamps_df_round.at['P1S2','length_second'] = ( timestamps_df_round.at['P1S2','end_time'] - timestamps_df_round.at['P1S2','start_time'] ) / np.timedelta64(1, 's')\n",
    "timestamps_df_round.at['P1S3','length_second'] = ( timestamps_df_round.at['P1S3','end_time'] - timestamps_df_round.at['P1S3','start_time'] ) / np.timedelta64(1, 's')\n",
    "\n",
    "timestamps_df_round.at['P2S1','length_second'] = ( timestamps_df_round.at['P2S1','end_time'] - timestamps_df_round.at['P2S1','start_time'] ) / np.timedelta64(1, 's')\n",
    "timestamps_df_round.at['P2S2','length_second'] = ( timestamps_df_round.at['P2S2','end_time'] - timestamps_df_round.at['P2S2','start_time'] ) / np.timedelta64(1, 's')\n",
    "timestamps_df_round.at['P2S3','length_second'] = ( timestamps_df_round.at['P2S3','end_time'] - timestamps_df_round.at['P2S3','start_time'] ) / np.timedelta64(1, 's')\n",
    "\n",
    "timestamps_df_round.at['P3S1','length_second'] = ( timestamps_df_round.at['P3S1','end_time'] - timestamps_df_round.at['P3S1','start_time'] ) / np.timedelta64(1, 's')\n",
    "timestamps_df_round.at['P3S2','length_second'] = ( timestamps_df_round.at['P3S2','end_time'] - timestamps_df_round.at['P3S2','start_time'] ) / np.timedelta64(1, 's')\n",
    "timestamps_df_round.at['P3S3','length_second'] = ( timestamps_df_round.at['P3S3','end_time'] - timestamps_df_round.at['P3S3','start_time'] ) / np.timedelta64(1, 's')\n",
    "\n",
    "timestamps_df_round.at['P4S1','length_second'] = ( timestamps_df_round.at['P4S1','end_time'] - timestamps_df_round.at['P4S1','start_time'] ) / np.timedelta64(1, 's')\n",
    "timestamps_df_round.at['P4S2','length_second'] = ( timestamps_df_round.at['P4S2','end_time'] - timestamps_df_round.at['P4S2','start_time'] ) / np.timedelta64(1, 's')\n",
    "timestamps_df_round.at['P4S3','length_second'] = ( timestamps_df_round.at['P4S3','end_time'] - timestamps_df_round.at['P4S3','start_time'] ) / np.timedelta64(1, 's')\n",
    "\n",
    "print(timestamps_df_round)"
   ]
  },
  {
   "cell_type": "code",
   "execution_count": null,
   "metadata": {},
   "outputs": [],
   "source": [
    "# copy hole column to new column\n",
    "timestamps_df['start_second'] = pd.to_datetime(timestamps_df['start_time']) - np.datetime64('1970-01-01T00:00:00Z') / np.timedelta64(1, 'ms')\n",
    "print(timestamps_df)\n",
    "\n",
    "# starttime round up\n",
    "# endtime round down"
   ]
  },
  {
   "cell_type": "code",
   "execution_count": null,
   "metadata": {},
   "outputs": [],
   "source": [
    "df['D'] = df['B']\n",
    "# convert datetime to relative time format [ms till 1970]\n",
    "\n",
    "initial_timestamp_ms = (timestamps.df - np.datetime64('1970-01-01T00:00:00Z')) / np.timedelta64(1, 'ms')\n",
    "\n",
    "start_second = \n",
    "length_second"
   ]
  },
  {
   "cell_type": "code",
   "execution_count": null,
   "metadata": {},
   "outputs": [],
   "source": []
  },
  {
   "cell_type": "code",
   "execution_count": null,
   "metadata": {},
   "outputs": [],
   "source": []
  }
 ],
 "metadata": {
  "kernelspec": {
   "display_name": "Python 3",
   "language": "python",
   "name": "python3"
  },
  "language_info": {
   "codemirror_mode": {
    "name": "ipython",
    "version": 3
   },
   "file_extension": ".py",
   "mimetype": "text/x-python",
   "name": "python",
   "nbconvert_exporter": "python",
   "pygments_lexer": "ipython3",
   "version": "3.7.0"
  }
 },
 "nbformat": 4,
 "nbformat_minor": 2
}
